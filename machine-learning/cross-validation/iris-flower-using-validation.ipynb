{
 "cells": [
  {
   "cell_type": "code",
   "execution_count": 154,
   "metadata": {},
   "outputs": [],
   "source": [
    "import pandas as pd \n",
    "from sklearn.datasets import load_iris\n",
    "X= load_iris().data\n",
    "y= load_iris().target"
   ]
  },
  {
   "cell_type": "code",
   "execution_count": 155,
   "metadata": {},
   "outputs": [],
   "source": [
    "def get_score(model, X_train, X_test, y_train, y_test):\n",
    "\tmodel.fit(X_train, y_train)\n",
    "\treturn model.score(X_test, y_test)"
   ]
  },
  {
   "cell_type": "code",
   "execution_count": 156,
   "metadata": {},
   "outputs": [],
   "source": [
    "from sklearn.model_selection import StratifiedKFold \n",
    "kfld = StratifiedKFold(n_splits=5)"
   ]
  },
  {
   "cell_type": "code",
   "execution_count": 157,
   "metadata": {},
   "outputs": [],
   "source": [
    "from sklearn.linear_model import LogisticRegression\n",
    "from sklearn.ensemble import RandomForestClassifier\n",
    "from sklearn.svm import SVC\n",
    "scores_lr = []\n",
    "scores_svm = []\n",
    "scores_rf = []\n"
   ]
  },
  {
   "cell_type": "code",
   "execution_count": 158,
   "metadata": {},
   "outputs": [],
   "source": [
    "for train_index, test_index in kfld.split(X=X, y=y):\n",
    "\tX_train, X_test, y_train, y_test = X[train_index], X[test_index], y[train_index], y[test_index]\n",
    "\tscores_lr.append(get_score(LogisticRegression(max_iter=200), X_train, X_test, y_train, y_test)) \n",
    "\tscores_svm.append(get_score(SVC(), X_train, X_test, y_train, y_test)) \n",
    "\tscores_rf.append(get_score(RandomForestClassifier(), X_train, X_test, y_train, y_test)) "
   ]
  },
  {
   "cell_type": "code",
   "execution_count": 159,
   "metadata": {},
   "outputs": [],
   "source": [
    "def get_avg(scores):\n",
    "\treturn sum(scores)/len(scores)"
   ]
  },
  {
   "cell_type": "code",
   "execution_count": 170,
   "metadata": {},
   "outputs": [
    {
     "name": "stdout",
     "output_type": "stream",
     "text": [
      "Logistic Regression :  0.9733333333333334\n",
      "SVC :  0.9666666666666666\n",
      "Random Forest Classifier :  0.96\n"
     ]
    }
   ],
   "source": [
    "print('Logistic Regression : ', get_avg(scores_lr))\n",
    "print('SVC : ', get_avg(scores_svm))\n",
    "print('Random Forest Classifier : ', get_avg(scores_rf))"
   ]
  }
 ],
 "metadata": {
  "kernelspec": {
   "display_name": "pylearn",
   "language": "python",
   "name": "python3"
  },
  "language_info": {
   "codemirror_mode": {
    "name": "ipython",
    "version": 3
   },
   "file_extension": ".py",
   "mimetype": "text/x-python",
   "name": "python",
   "nbconvert_exporter": "python",
   "pygments_lexer": "ipython3",
   "version": "3.9.21"
  }
 },
 "nbformat": 4,
 "nbformat_minor": 2
}
